{
  "cells": [
    {
      "cell_type": "markdown",
      "metadata": {
        "id": "-G-ektH1CTzp"
      },
      "source": [
        "## Import library"
      ]
    },
    {
      "cell_type": "code",
      "execution_count": null,
      "metadata": {
        "id": "XcmCAQ1J4RVJ"
      },
      "outputs": [],
      "source": [
        "import tensorflow as tf\n",
        "from tensorflow.keras.optimizers import RMSprop, Adam\n",
        "from tensorflow.keras.preprocessing.image import ImageDataGenerator\n",
        "from keras.preprocessing import image\n",
        "\n",
        "import matplotlib.pyplot as plt\n",
        "%matplotlib inline\n",
        "\n",
        "import numpy as np\n",
        "from google.colab import files"
      ]
    },
    {
      "cell_type": "markdown",
      "source": [
        "# **Nouvelle section**"
      ],
      "metadata": {
        "id": "tV1yTTqmSkrO"
      }
    },
    {
      "cell_type": "markdown",
      "metadata": {
        "id": "GRCg1q7KCTzy"
      },
      "source": [
        "## Import Data"
      ]
    },
    {
      "cell_type": "code",
      "source": [
        "import zipfile\n",
        "import os"
      ],
      "metadata": {
        "id": "qU7vv6IoNsYX"
      },
      "execution_count": null,
      "outputs": []
    },
    {
      "cell_type": "code",
      "source": [
        "!unzip \"/content/image.zip\"\n",
        "base_dir=r\"/content/image\""
      ],
      "metadata": {
        "colab": {
          "base_uri": "https://localhost:8080/"
        },
        "id": "1xj-YFiHNw_6",
        "outputId": "bcdfe558-e649-441f-fe86-3b676a9249ba"
      },
      "execution_count": null,
      "outputs": [
        {
          "output_type": "stream",
          "name": "stdout",
          "text": [
            "Archive:  /content/image.zip\n",
            "   creating: image/\n",
            "   creating: image/angry/\n",
            "  inflating: image/angry/0_R3hp9FQvNdqP8qaG.jpg  \n",
            "  inflating: image/angry/1655043603_1-papik-pro-p-drawing-of-a-child-at-war-1.jpg  \n",
            "  inflating: image/angry/3021cc31ca0ee35eecc00d14eead5175.jpg  \n",
            "  inflating: image/angry/3151525500000578-3451517-image-a-10_1455734074794.jpg  \n",
            "  inflating: image/angry/4720f7fb6a5c850c7f5f73a61b1879f4.jpg  \n",
            "  inflating: image/angry/4bd89cecab5455ab9f6071fff5636d32--syrian-children-art-therapy.jpg  \n",
            "  inflating: image/angry/628c737c26ed98bffa5ebb34af40ee0d.jpg  \n",
            "  inflating: image/angry/6a00d8341d86ee53ef00e54f4a65478834-800wi.jpg  \n",
            "  inflating: image/angry/6a00d8341d86ee53ef00e5508fbca38833-800wi.jpg  \n",
            "  inflating: image/angry/6a00d8341d86ee53ef01b8d0648b4a970c.jpg  \n",
            "  inflating: image/angry/750297f9436530e2d0d015dd93f09583.jpg  \n",
            "  inflating: image/angry/88f2395c.jpg  \n",
            "  inflating: image/angry/915f3482ce2597d90cdc199cc99097ca--broken-heart-art-online-art.jpg  \n",
            "  inflating: image/angry/army-scene.jpg  \n",
            "  inflating: image/angry/bossangoa20cfs20moriac2014-copy1.jpg  \n",
            "image/angry/Capture d’écran 2022-08-30 142742.jpg:  mismatching \"local\" filename (image/angry/Capture dтАЩ├йcran 2022-08-30 142742.jpg),\n",
            "         continuing with \"central\" filename version\n",
            "  inflating: image/angry/Capture d’écran 2022-08-30 142742.jpg  \n",
            "image/angry/Capture d’écran 2022-08-30 142805.jpg:  mismatching \"local\" filename (image/angry/Capture dтАЩ├йcran 2022-08-30 142805.jpg),\n",
            "         continuing with \"central\" filename version\n",
            "  inflating: image/angry/Capture d’écran 2022-08-30 142805.jpg  \n",
            "image/angry/Capture d’écran 2022-08-30 142958.jpg:  mismatching \"local\" filename (image/angry/Capture dтАЩ├йcran 2022-08-30 142958.jpg),\n",
            "         continuing with \"central\" filename version\n",
            "  inflating: image/angry/Capture d’écran 2022-08-30 142958.jpg  \n",
            "image/angry/Capture d’écran 2022-08-30 143101.jpg:  mismatching \"local\" filename (image/angry/Capture dтАЩ├йcran 2022-08-30 143101.jpg),\n",
            "         continuing with \"central\" filename version\n",
            "  inflating: image/angry/Capture d’écran 2022-08-30 143101.jpg  \n",
            "image/angry/Capture d’écran 2022-08-30 143128.jpg:  mismatching \"local\" filename (image/angry/Capture dтАЩ├йcran 2022-08-30 143128.jpg),\n",
            "         continuing with \"central\" filename version\n",
            "  inflating: image/angry/Capture d’écran 2022-08-30 143128.jpg  \n",
            "image/angry/Capture d’écran 2022-08-30 143808.jpg:  mismatching \"local\" filename (image/angry/Capture dтАЩ├йcran 2022-08-30 143808.jpg),\n",
            "         continuing with \"central\" filename version\n",
            "  inflating: image/angry/Capture d’écran 2022-08-30 143808.jpg  \n",
            "image/angry/Capture d’écran 2022-08-30 143915.jpg:  mismatching \"local\" filename (image/angry/Capture dтАЩ├йcran 2022-08-30 143915.jpg),\n",
            "         continuing with \"central\" filename version\n",
            "  inflating: image/angry/Capture d’écran 2022-08-30 143915.jpg  \n",
            "image/angry/Capture d’écran 2022-08-30 143930.jpg:  mismatching \"local\" filename (image/angry/Capture dтАЩ├йcran 2022-08-30 143930.jpg),\n",
            "         continuing with \"central\" filename version\n",
            "  inflating: image/angry/Capture d’écran 2022-08-30 143930.jpg  \n",
            "image/angry/Capture d’écran 2022-08-30 144025.jpg:  mismatching \"local\" filename (image/angry/Capture dтАЩ├йcran 2022-08-30 144025.jpg),\n",
            "         continuing with \"central\" filename version\n",
            "  inflating: image/angry/Capture d’écran 2022-08-30 144025.jpg  \n",
            "image/angry/Capture d’écran 2022-08-30 144040.jpg:  mismatching \"local\" filename (image/angry/Capture dтАЩ├йcran 2022-08-30 144040.jpg),\n",
            "         continuing with \"central\" filename version\n",
            "  inflating: image/angry/Capture d’écran 2022-08-30 144040.jpg  \n",
            "image/angry/Capture d’écran 2022-08-30 144843.jpg:  mismatching \"local\" filename (image/angry/Capture dтАЩ├йcran 2022-08-30 144843.jpg),\n",
            "         continuing with \"central\" filename version\n",
            "  inflating: image/angry/Capture d’écran 2022-08-30 144843.jpg  \n",
            "image/angry/Capture d’écran 2022-08-30 145632.jpg:  mismatching \"local\" filename (image/angry/Capture dтАЩ├йcran 2022-08-30 145632.jpg),\n",
            "         continuing with \"central\" filename version\n",
            "  inflating: image/angry/Capture d’écran 2022-08-30 145632.jpg  \n",
            "  inflating: image/angry/CH1444199.jpeg  \n",
            "  inflating: image/angry/Dessins.jpg  \n",
            "  inflating: image/angry/Dessins1.jpg  \n",
            "  inflating: image/angry/DrR_rCeVYAAGFIx.jpg  \n",
            "  inflating: image/angry/fpsyg-11-562972-g006.jpg  \n",
            "  inflating: image/angry/gazadrawingb.jpg  \n",
            "  inflating: image/angry/I3.png      \n",
            "  inflating: image/angry/images (1).jfif  \n",
            "  inflating: image/angry/images (2).jfif  \n",
            "  inflating: image/angry/images (3).jfif  \n",
            "  inflating: image/angry/images (4).jfif  \n",
            "  inflating: image/angry/images.jfif  \n",
            "  inflating: image/angry/intimidation-300x192.png  \n",
            "  inflating: image/angry/istockphoto-1136676935-612x612.jpg  \n",
            "  inflating: image/angry/Picture6.jpg  \n",
            "  inflating: image/angry/Poster-Making-Competition-on-Non-Violence-5.jpg  \n",
            "  inflating: image/angry/violence-conjugale-293x300.png  \n",
            "  inflating: image/angry/violence-psychologique-300x229.png  \n",
            "  inflating: image/angry/violence.jpg  \n",
            "  inflating: image/angry/violence_physique-192x300.png  \n",
            "  inflating: image/angry/violent-image-from-early-childhoodmagazine-org.jpg  \n",
            "  inflating: image/angry/war-battle-child-drawing-37505015.jpg  \n",
            "  inflating: image/angry/War-Drawing-Photographs.jpg  \n",
            "   creating: image/depression/\n",
            "  inflating: image/depression/0d6b6e5504858db5d132ac4638941ab2dc5254c3r1-1024-714v2_uhq.jpg  \n",
            "  inflating: image/depression/1c52262f76afdb90c31bc4a55c039a81.jpg  \n",
            "  inflating: image/depression/84329682.jpg  \n",
            "  inflating: image/depression/84986103.jpg  \n",
            "  inflating: image/depression/ac5e9b85818c01671082be6170b6e166927f52a4v2_128.jpg  \n",
            "  inflating: image/depression/angel-moreland-anxiety.jpg  \n",
            "  inflating: image/depression/anxiety-drawing-30.png  \n",
            "  inflating: image/depression/anxiety-tout.webp  \n",
            "  inflating: image/depression/azd.JPG  \n",
            "  inflating: image/depression/Bipolar+Disorder.jpg  \n",
            "  inflating: image/depression/childrens-drawing_177213184.jpg  \n",
            "  inflating: image/depression/chvg.JPG  \n",
            "  inflating: image/depression/creepy-children-drawings-20-57ff846d38f36__700.jpg  \n",
            "  inflating: image/depression/creepy-children-drawings-33-580a13dde3a8a__700.jpg  \n",
            "  inflating: image/depression/creepy-drawing-12.jpg  \n",
            "  inflating: image/depression/creepy-kids-drawings-monster-heart.jpg  \n",
            "  inflating: image/depression/creepy_drawings_of_an_depressed_11_year_old_girl___by_rin0kiyomasa-d82ailc.jpg  \n",
            "  inflating: image/depression/d1bcd81f1e6cc01845f9d4a1750c0692.jpg  \n",
            "  inflating: image/depression/depr16jpg.jpg  \n",
            "  inflating: image/depression/depression-abstract-angel-artist-stephen-k.jpg  \n",
            "  inflating: image/depression/depression-drawing-56.jpg  \n",
            "  inflating: image/depression/Depression-Drawing-Pics.jpg  \n",
            "  inflating: image/depression/depression_is_a_demon_by_skywmv_d9h5ogt-fullview.jpg  \n",
            "  inflating: image/depression/dfda3123695ad8cc2bdfe206dc52bb6a--children-drawing-children-s.jpg  \n",
            "  inflating: image/depression/dfhdfg.JPG  \n",
            "  inflating: image/depression/dfhdfhf.JPG  \n",
            "  inflating: image/depression/disturbing-kids-drawings-12.jpg  \n",
            "  inflating: image/depression/disturbing-kids-drawings-21.jpg  \n",
            "  inflating: image/depression/ds.JPG  \n",
            "  inflating: image/depression/ExZippo1.jpg  \n",
            "  inflating: image/depression/f243b66956e0abdf05517eb2d42f4d6d.png  \n",
            "  inflating: image/depression/fazez.JPG  \n",
            "  inflating: image/depression/fdbcvbc.JPG  \n",
            "  inflating: image/depression/hddgvx.JPG  \n",
            "  inflating: image/depression/hdfd.JPG  \n",
            "  inflating: image/depression/hdfh.JPG  \n",
            "  inflating: image/depression/horse-childrens-drawing-herd-horses-42808.jpg  \n",
            "  inflating: image/depression/hqdefault.jpg  \n",
            "  inflating: image/depression/iAwHfUXfAxorlFcUUs8olEbaST2otxGDma0U0NOW5CtiW9yBP_0KcpXCt8cIXC9DHArjOGRA9ifxc4e1kLrCZOtVXcWSnltfBmeD9wNy2aQtSYdHFz6q3aeVihAHbcAz99UKjVY_.jpg  \n",
            "  inflating: image/depression/jffj.JPG  \n",
            "  inflating: image/depression/maxresdefault.jpg  \n",
            "  inflating: image/depression/qdsq.JPG  \n",
            "  inflating: image/depression/qs.JPG  \n",
            "  inflating: image/depression/sad-sketch-ideas-2.jpg  \n",
            "  inflating: image/depression/sdfs.JPG  \n",
            "  inflating: image/depression/sdg.JPG  \n",
            "  inflating: image/depression/sdgsdgd.JPG  \n",
            "  inflating: image/depression/unnamed.jpg  \n",
            "  inflating: image/depression/unnamed.png  \n",
            "  inflating: image/depression/uoii017ndag31.png  \n",
            "   creating: image/happiness/\n",
            "  inflating: image/happiness/10684068-children-s-drawing-of-happy-family-having-good-time-together (1).jpg  \n",
            "  inflating: image/happiness/10684071-children-s-drawing-of-happy-family-with-umbrellas-in-autumn-time (1).jpg  \n",
            "  inflating: image/happiness/142444354-child-drawing-of-a-happy-sports-family-with-kids-having-fun-outdoors-active-healthy-lifestyle-concep.jpg  \n",
            "  inflating: image/happiness/168dcde421dea64f5ac8bc5ce3ff774b--family-painting-kinder-art.jpg  \n",
            "  inflating: image/happiness/1_42vaqZGREXNnXK5U1fiO0A.png  \n",
            "  inflating: image/happiness/1_i2-G5SAwJe_A39H-lPoW_A.png  \n",
            "  inflating: image/happiness/1_JwXjffQE8OsAYjt6blmoTQ.png  \n",
            "  inflating: image/happiness/1_s1bPfhOheIV-fLWaFuPK6g.png  \n",
            "  inflating: image/happiness/240_F_246862963_kbQMWp2xpGNXwF7rdEeojRFeQIfy0Lra.jpg  \n",
            "  inflating: image/happiness/35046cae8440a9319b57f78f879f4d14.jpg  \n",
            "  inflating: image/happiness/41014690f2c3a8158c8f34000140bfb3.jpg  \n",
            "  inflating: image/happiness/41080633-child-drawing-happy-family-with-two-children (1).jpg  \n",
            "  inflating: image/happiness/5c685eb57963e200861ed63909e2fdb5.jpg  \n",
            "  inflating: image/happiness/72139757.jpg  \n",
            "  inflating: image/happiness/a344b3f4b88c6e05b32f722fe3afa800.jpg  \n",
            "image/happiness/Capture d’écran 2022-08-30 141014.jpg:  mismatching \"local\" filename (image/happiness/Capture dтАЩ├йcran 2022-08-30 141014.jpg),\n",
            "         continuing with \"central\" filename version\n",
            "  inflating: image/happiness/Capture d’écran 2022-08-30 141014.jpg  \n",
            "image/happiness/Capture d’écran 2022-08-30 141709.jpg:  mismatching \"local\" filename (image/happiness/Capture dтАЩ├йcran 2022-08-30 141709.jpg),\n",
            "         continuing with \"central\" filename version\n",
            "  inflating: image/happiness/Capture d’écran 2022-08-30 141709.jpg  \n",
            "  inflating: image/happiness/child-drawing-of-a-happy-snowman-isolated-on-white-1173658589-6359cd25d8304a2593181231d41464a7.jpg  \n",
            "  inflating: image/happiness/child-s-drawing-car-tree-house-children-country-94931904.jpg  \n",
            "  inflating: image/happiness/children-s-drawing-butterflies-birch-houses-flowers-joy-summer-82095485.jpg  \n",
            "  inflating: image/happiness/children-s-drawing-car-racing-spectators-89200465.jpg  \n",
            "  inflating: image/happiness/childrens-drawing-happy-family-2A60XT0.jpg  \n",
            "  inflating: image/happiness/childrens-drawing-happy-family-CMF00868.jpg  \n",
            "  inflating: image/happiness/Childrens-drawings.jpg  \n",
            "  inflating: image/happiness/childs-drawing-of-a-happy-family-on-a-walk-outdoors-pencil-art-in-childish-style-stock-images_csp87823651.jpg  \n",
            "  inflating: image/happiness/depositphotos_60921223-stock-photo-children-drawing-children-playing-in.jpg  \n",
            "  inflating: image/happiness/esy-059493676.jpg  \n",
            "  inflating: image/happiness/family.jpg  \n",
            "  inflating: image/happiness/fun-with-family.jpg  \n",
            "  inflating: image/happiness/happy-children-jump-together-summer-park-funny-jumping-kids-children-drawing-painted-markers-doodle-hand-drawn-vector-175280350.jpg  \n",
            "  inflating: image/happiness/happy-family-very-kids-drawing-52516356.jpg  \n",
            "  inflating: image/happiness/happy-family-very-kids-drawing-52517075.jpg  \n",
            "  inflating: image/happiness/images-_1__1.jpg  \n",
            "  inflating: image/happiness/images-_2_.jpg  \n",
            "  inflating: image/happiness/images-_3_.jpg  \n",
            "  inflating: image/happiness/images-_4_.jpg  \n",
            "  inflating: image/happiness/images-_5_.jpg  \n",
            "  inflating: image/happiness/images-_6_.jpg  \n",
            "  inflating: image/happiness/images.jfif  \n",
            "  inflating: image/happiness/images_1.jpg  \n",
            "  inflating: image/happiness/istockphoto-1157976091-612x612.jpg  \n",
            "  inflating: image/happiness/istockphoto-1208557945-612x612.jpg  \n",
            "  inflating: image/happiness/istockphoto-1208557987-612x612.jpg  \n",
            "  inflating: image/happiness/istockphoto-475132819-1024x1024.jpg  \n",
            "  inflating: image/happiness/istockphoto-700617546-170667a (1).jpg  \n",
            "  inflating: image/happiness/istockphoto-700617546-170667a.jpg  \n",
            "  inflating: image/happiness/istockphoto-807638954-170667a.jpg  \n",
            "  inflating: image/happiness/maxresdefault.jpg  \n",
            "  inflating: image/happiness/Me-My-lovely-family-e1518482879595.jpg  \n",
            "  inflating: image/happiness/pngtree-kids-draw-happy-family-png-image_3570581.jpg  \n"
          ]
        }
      ]
    },
    {
      "cell_type": "code",
      "execution_count": null,
      "metadata": {
        "colab": {
          "base_uri": "https://localhost:8080/"
        },
        "id": "fTVo9c8H405m",
        "outputId": "efe80c53-78bd-48d8-fcc2-221ffb5a8923"
      },
      "outputs": [
        {
          "name": "stdout",
          "output_type": "stream",
          "text": [
            "--2021-05-22 05:39:41--  https://dicodingacademy.blob.core.windows.net/picodiploma/ml_pemula_academy/rockpaperscissors.zip\n",
            "Resolving dicodingacademy.blob.core.windows.net (dicodingacademy.blob.core.windows.net)... 52.239.197.36\n",
            "Connecting to dicodingacademy.blob.core.windows.net (dicodingacademy.blob.core.windows.net)|52.239.197.36|:443... connected.\n",
            "HTTP request sent, awaiting response... 200 OK\n",
            "Length: 322873683 (308M) [application/zip]\n",
            "Saving to: ‘/tmp/rockpaperscissors.zip’\n",
            "\n",
            "/tmp/rockpapersciss 100%[===================>] 307.92M  7.85MB/s    in 30s     \n",
            "\n",
            "2021-05-22 05:40:12 (10.2 MB/s) - ‘/tmp/rockpaperscissors.zip’ saved [322873683/322873683]\n",
            "\n"
          ]
        }
      ],
      "source": [
        "!wget --no-check-certificate \\\n",
        "  https://dicodingacademy.blob.core.windows.net/picodiploma/ml_pemula_academy/rockpaperscissors.zip \\\n",
        "  -O /tmp/rockpaperscissors.zip"
      ]
    },
    {
      "cell_type": "markdown",
      "metadata": {
        "id": "N40k3xRjCTz0"
      },
      "source": [
        "## Preparing data"
      ]
    },
    {
      "cell_type": "code",
      "execution_count": null,
      "metadata": {
        "id": "jXQxXYxl6JvG",
        "colab": {
          "base_uri": "https://localhost:8080/",
          "height": 356
        },
        "outputId": "b2d0ec74-5e3c-43cb-cedb-2564688419c7"
      },
      "outputs": [
        {
          "output_type": "error",
          "ename": "FileNotFoundError",
          "evalue": "ignored",
          "traceback": [
            "\u001b[0;31m---------------------------------------------------------------------------\u001b[0m",
            "\u001b[0;31mFileNotFoundError\u001b[0m                         Traceback (most recent call last)",
            "\u001b[0;32m<ipython-input-9-dcc40a66dff2>\u001b[0m in \u001b[0;36m<module>\u001b[0;34m\u001b[0m\n\u001b[1;32m      2\u001b[0m \u001b[0;34m\u001b[0m\u001b[0m\n\u001b[1;32m      3\u001b[0m \u001b[0mlocal\u001b[0m \u001b[0;34m=\u001b[0m\u001b[0;34m'/content/image.zip'\u001b[0m\u001b[0;34m\u001b[0m\u001b[0;34m\u001b[0m\u001b[0m\n\u001b[0;32m----> 4\u001b[0;31m \u001b[0mzip\u001b[0m \u001b[0;34m=\u001b[0m \u001b[0mzipfile\u001b[0m\u001b[0;34m.\u001b[0m\u001b[0mZipFile\u001b[0m\u001b[0;34m(\u001b[0m\u001b[0mlocal\u001b[0m\u001b[0;34m,\u001b[0m \u001b[0;34m'r'\u001b[0m\u001b[0;34m)\u001b[0m\u001b[0;34m\u001b[0m\u001b[0;34m\u001b[0m\u001b[0m\n\u001b[0m\u001b[1;32m      5\u001b[0m \u001b[0;31m# zip.extractall('/tmp')\u001b[0m\u001b[0;34m\u001b[0m\u001b[0;34m\u001b[0m\u001b[0;34m\u001b[0m\u001b[0m\n\u001b[1;32m      6\u001b[0m \u001b[0mzip\u001b[0m\u001b[0;34m.\u001b[0m\u001b[0mclose\u001b[0m\u001b[0;34m(\u001b[0m\u001b[0;34m)\u001b[0m\u001b[0;34m\u001b[0m\u001b[0;34m\u001b[0m\u001b[0m\n",
            "\u001b[0;32m/usr/lib/python3.8/zipfile.py\u001b[0m in \u001b[0;36m__init__\u001b[0;34m(self, file, mode, compression, allowZip64, compresslevel, strict_timestamps)\u001b[0m\n\u001b[1;32m   1249\u001b[0m             \u001b[0;32mwhile\u001b[0m \u001b[0;32mTrue\u001b[0m\u001b[0;34m:\u001b[0m\u001b[0;34m\u001b[0m\u001b[0;34m\u001b[0m\u001b[0m\n\u001b[1;32m   1250\u001b[0m                 \u001b[0;32mtry\u001b[0m\u001b[0;34m:\u001b[0m\u001b[0;34m\u001b[0m\u001b[0;34m\u001b[0m\u001b[0m\n\u001b[0;32m-> 1251\u001b[0;31m                     \u001b[0mself\u001b[0m\u001b[0;34m.\u001b[0m\u001b[0mfp\u001b[0m \u001b[0;34m=\u001b[0m \u001b[0mio\u001b[0m\u001b[0;34m.\u001b[0m\u001b[0mopen\u001b[0m\u001b[0;34m(\u001b[0m\u001b[0mfile\u001b[0m\u001b[0;34m,\u001b[0m \u001b[0mfilemode\u001b[0m\u001b[0;34m)\u001b[0m\u001b[0;34m\u001b[0m\u001b[0;34m\u001b[0m\u001b[0m\n\u001b[0m\u001b[1;32m   1252\u001b[0m                 \u001b[0;32mexcept\u001b[0m \u001b[0mOSError\u001b[0m\u001b[0;34m:\u001b[0m\u001b[0;34m\u001b[0m\u001b[0;34m\u001b[0m\u001b[0m\n\u001b[1;32m   1253\u001b[0m                     \u001b[0;32mif\u001b[0m \u001b[0mfilemode\u001b[0m \u001b[0;32min\u001b[0m \u001b[0mmodeDict\u001b[0m\u001b[0;34m:\u001b[0m\u001b[0;34m\u001b[0m\u001b[0;34m\u001b[0m\u001b[0m\n",
            "\u001b[0;31mFileNotFoundError\u001b[0m: [Errno 2] No such file or directory: '/content/image.zip'"
          ]
        }
      ],
      "source": [
        "import zipfile, os\n",
        "\n",
        "local ='/content/image.zip'\n",
        "zip = zipfile.ZipFile(local, 'r')\n",
        "# zip.extractall('/tmp')\n",
        "zip.close()\n",
        "\n",
        "base_dir = '/content/image'"
      ]
    },
    {
      "cell_type": "code",
      "execution_count": null,
      "metadata": {
        "colab": {
          "base_uri": "https://localhost:8080/"
        },
        "id": "xpr9gbyp7L3G",
        "outputId": "cd5f22f8-060e-4fdd-88eb-aa70c640db82"
      },
      "outputs": [
        {
          "output_type": "execute_result",
          "data": {
            "text/plain": [
              "['happiness', 'angry', 'depression']"
            ]
          },
          "metadata": {},
          "execution_count": 13
        }
      ],
      "source": [
        "os.listdir('/content/image')"
      ]
    },
    {
      "cell_type": "code",
      "execution_count": null,
      "metadata": {
        "colab": {
          "base_uri": "https://localhost:8080/"
        },
        "id": "H7l3mG4Z7wnB",
        "outputId": "139a183f-9b69-419f-bb4c-6a6c93dc2a52"
      },
      "outputs": [
        {
          "data": {
            "text/plain": [
              "['paper', 'scissors', 'rock']"
            ]
          },
          "execution_count": 10,
          "metadata": {
            "tags": []
          },
          "output_type": "execute_result"
        }
      ],
      "source": [
        "os.remove('/tmp/rockpaperscissors/rps-cv-images/README_rpc-cv-images.txt')\n",
        "os.listdir('/tmp/rockpaperscissors/rps-cv-images')"
      ]
    },
    {
      "cell_type": "code",
      "execution_count": null,
      "metadata": {
        "colab": {
          "base_uri": "https://localhost:8080/"
        },
        "id": "Rj8N6o5-8-LG",
        "outputId": "35c28a54-2635-4221-c6e2-9563148de8d0"
      },
      "outputs": [
        {
          "output_type": "stream",
          "name": "stdout",
          "text": [
            "Found 87 images belonging to 3 classes.\n",
            "Found 56 images belonging to 3 classes.\n"
          ]
        }
      ],
      "source": [
        "data_generator = ImageDataGenerator(rescale= 1./255,\n",
        "                                    horizontal_flip= True,\n",
        "                                    vertical_flip= True,\n",
        "                                    zoom_range= 0.3,\n",
        "                                    rotation_range= 90,\n",
        "                                    shear_range= 0.3,\n",
        "                                    validation_split= 0.4)\n",
        "\n",
        "train = data_generator.flow_from_directory(base_dir,\n",
        "                                           class_mode= 'categorical',\n",
        "                                           batch_size= 64,\n",
        "                                           target_size= (150, 150),\n",
        "                                           subset='training')\n",
        "\n",
        "validation = data_generator.flow_from_directory(base_dir,\n",
        "                                           class_mode= 'categorical',\n",
        "                                           batch_size= 64,\n",
        "                                           target_size= (150, 150),\n",
        "                                           subset='validation')"
      ]
    },
    {
      "cell_type": "markdown",
      "metadata": {
        "id": "ApSootKMCTz5"
      },
      "source": [
        "## Create  Custom callbacks"
      ]
    },
    {
      "cell_type": "code",
      "execution_count": null,
      "metadata": {
        "id": "t8B-KoY6P5Lq"
      },
      "outputs": [],
      "source": [
        "class Callbacks(tf.keras.callbacks.Callback):\n",
        "  def on_epoch_end(self, epoch, logs={}):\n",
        "    if(logs.get('accuracy')>0.95):\n",
        "      print(\"\\nAkurasi telah mencapai lebih dari 95%, Training dihentikan!\")\n",
        "      self.model.stop_training = True\n",
        "\n",
        "callback = Callbacks()"
      ]
    },
    {
      "cell_type": "markdown",
      "metadata": {
        "id": "kps_qJVnCTz6"
      },
      "source": [
        "## Build Model"
      ]
    },
    {
      "cell_type": "code",
      "execution_count": null,
      "metadata": {
        "id": "Ux8nHXI2sQzo"
      },
      "outputs": [],
      "source": [
        "model = tf.keras.models.Sequential([tf.keras.layers.Conv2D(16, (3,3), activation='relu', input_shape=(150, 150, 3)),\n",
        "                                    tf.keras.layers.MaxPooling2D(2, 2),\n",
        "\n",
        "                                    tf.keras.layers.Conv2D(32, (3,3), activation='relu'),\n",
        "                                    tf.keras.layers.MaxPooling2D(2, 2),\n",
        "                                    \n",
        "                                    tf.keras.layers.Conv2D(64, (3,3), activation='relu'),\n",
        "                                    tf.keras.layers.MaxPooling2D(2, 2),\n",
        "                                    \n",
        "                                    tf.keras.layers.Conv2D(64, (3,3), activation='relu'),\n",
        "                                    tf.keras.layers.MaxPooling2D(2, 2),\n",
        "                                    \n",
        "                                    tf.keras.layers.Flatten(),\n",
        "                                    tf.keras.layers.Dense(1024, activation='relu'),\n",
        "                                    tf.keras.layers.Dense(3, activation='softmax')\n",
        "                                    ])\n",
        "\n",
        "\n",
        "model.compile(optimizer=Adam(learning_rate=0.001), loss='categorical_crossentropy', metrics=['accuracy'])"
      ]
    },
    {
      "cell_type": "markdown",
      "metadata": {
        "id": "Yac3N3taCTz9"
      },
      "source": [
        "## Fitting model"
      ]
    },
    {
      "cell_type": "code",
      "execution_count": null,
      "metadata": {
        "colab": {
          "base_uri": "https://localhost:8080/"
        },
        "id": "9uGpbB8ywJWR",
        "outputId": "f347d6bb-5d4a-4390-daa6-a16ed4c434a3"
      },
      "outputs": [
        {
          "output_type": "stream",
          "name": "stdout",
          "text": [
            "Epoch 1/20\n",
            "2/2 [==============================] - 8s 5s/step - loss: 1.6233 - accuracy: 0.3448 - val_loss: 1.1186 - val_accuracy: 0.3214\n",
            "Epoch 2/20\n",
            "2/2 [==============================] - 5s 4s/step - loss: 1.1188 - accuracy: 0.3678 - val_loss: 1.1150 - val_accuracy: 0.3393\n",
            "Epoch 3/20\n",
            "2/2 [==============================] - 5s 4s/step - loss: 1.0971 - accuracy: 0.3563 - val_loss: 1.0947 - val_accuracy: 0.3393\n",
            "Epoch 4/20\n",
            "2/2 [==============================] - 5s 2s/step - loss: 1.0952 - accuracy: 0.3908 - val_loss: 1.0923 - val_accuracy: 0.3393\n",
            "Epoch 5/20\n",
            "2/2 [==============================] - 5s 4s/step - loss: 1.0918 - accuracy: 0.3563 - val_loss: 1.0943 - val_accuracy: 0.4107\n",
            "Epoch 6/20\n",
            "2/2 [==============================] - 5s 2s/step - loss: 1.0768 - accuracy: 0.4598 - val_loss: 1.0912 - val_accuracy: 0.5357\n",
            "Epoch 7/20\n",
            "2/2 [==============================] - 5s 2s/step - loss: 1.0706 - accuracy: 0.5172 - val_loss: 1.0891 - val_accuracy: 0.5179\n",
            "Epoch 8/20\n",
            "2/2 [==============================] - 5s 4s/step - loss: 1.0480 - accuracy: 0.4598 - val_loss: 1.0787 - val_accuracy: 0.3393\n",
            "Epoch 9/20\n",
            "2/2 [==============================] - 5s 2s/step - loss: 1.0407 - accuracy: 0.4598 - val_loss: 1.0509 - val_accuracy: 0.3750\n",
            "Epoch 10/20\n",
            "2/2 [==============================] - 5s 4s/step - loss: 1.0034 - accuracy: 0.5287 - val_loss: 1.0493 - val_accuracy: 0.5000\n",
            "Epoch 11/20\n",
            "2/2 [==============================] - 5s 2s/step - loss: 0.9914 - accuracy: 0.5862 - val_loss: 1.0315 - val_accuracy: 0.4464\n",
            "Epoch 12/20\n",
            "2/2 [==============================] - 5s 4s/step - loss: 0.9777 - accuracy: 0.4483 - val_loss: 0.9661 - val_accuracy: 0.5714\n",
            "Epoch 13/20\n",
            "2/2 [==============================] - 5s 4s/step - loss: 0.9663 - accuracy: 0.4828 - val_loss: 0.9941 - val_accuracy: 0.4107\n",
            "Epoch 14/20\n",
            "2/2 [==============================] - 5s 4s/step - loss: 1.0290 - accuracy: 0.4253 - val_loss: 1.0582 - val_accuracy: 0.4286\n",
            "Epoch 15/20\n",
            "2/2 [==============================] - 5s 2s/step - loss: 0.9811 - accuracy: 0.4943 - val_loss: 1.0029 - val_accuracy: 0.4107\n",
            "Epoch 16/20\n",
            "2/2 [==============================] - 5s 2s/step - loss: 0.8544 - accuracy: 0.6322 - val_loss: 0.9605 - val_accuracy: 0.5357\n",
            "Epoch 17/20\n",
            "2/2 [==============================] - 5s 2s/step - loss: 0.8273 - accuracy: 0.6322 - val_loss: 0.9549 - val_accuracy: 0.5357\n",
            "Epoch 18/20\n",
            "2/2 [==============================] - 5s 4s/step - loss: 0.8693 - accuracy: 0.5747 - val_loss: 0.9462 - val_accuracy: 0.5357\n",
            "Epoch 19/20\n",
            "2/2 [==============================] - 5s 4s/step - loss: 0.8013 - accuracy: 0.6207 - val_loss: 0.9106 - val_accuracy: 0.5536\n",
            "Epoch 20/20\n",
            "2/2 [==============================] - 5s 2s/step - loss: 0.8016 - accuracy: 0.6207 - val_loss: 1.0086 - val_accuracy: 0.4643\n"
          ]
        }
      ],
      "source": [
        "history = model.fit(train,\n",
        "                    epochs= 20,\n",
        "                    verbose= 1,\n",
        "                    callbacks=[callback],\n",
        "                    validation_data=validation)"
      ]
    },
    {
      "cell_type": "markdown",
      "metadata": {
        "id": "nYAig9Q2CTz-"
      },
      "source": [
        "## Model evaluate"
      ]
    },
    {
      "cell_type": "code",
      "execution_count": null,
      "metadata": {
        "colab": {
          "base_uri": "https://localhost:8080/"
        },
        "id": "B9GeyMEAeJBH",
        "outputId": "39324106-5b45-4366-b027-94d471ad8fc6"
      },
      "outputs": [
        {
          "output_type": "stream",
          "name": "stdout",
          "text": [
            "1/1 [==============================] - 1s 1s/step - loss: 0.9889 - accuracy: 0.5179\n"
          ]
        },
        {
          "output_type": "execute_result",
          "data": {
            "text/plain": [
              "[0.9889035820960999, 0.5178571343421936]"
            ]
          },
          "metadata": {},
          "execution_count": 18
        }
      ],
      "source": [
        "model.evaluate(validation, verbose=1)"
      ]
    },
    {
      "cell_type": "code",
      "execution_count": null,
      "metadata": {
        "colab": {
          "base_uri": "https://localhost:8080/",
          "height": 545
        },
        "id": "zM0i9inZNCOz",
        "outputId": "401919a6-97cb-4f4d-a2a3-fbd6fa96b4fe"
      },
      "outputs": [
        {
          "output_type": "display_data",
          "data": {
            "text/plain": [
              "<Figure size 432x288 with 1 Axes>"
            ],
            "image/png": "[encoded data removed]"
          },
          "metadata": {
            "needs_background": "light"
          }
        },
        {
          "output_type": "display_data",
          "data": {
            "text/plain": [
              "<Figure size 432x288 with 1 Axes>"
            ],
            "image/png": "[encoded data removed]"
          },
          "metadata": {
            "needs_background": "light"
          }
        }
      ],
      "source": [
        "acc = history.history['accuracy']\n",
        "val_acc = history.history['val_accuracy']\n",
        "loss = history.history['loss']\n",
        "val_loss = history.history['val_loss']\n",
        "\n",
        "epochs = range(len(acc))\n",
        "\n",
        "plt.plot(epochs, acc, 'r', label='Training accuracy')\n",
        "plt.plot(epochs, val_acc, 'b', label='Validation accuracy')\n",
        "plt.title('Training and validation accuracy')\n",
        "plt.legend()\n",
        "plt.figure()\n",
        "\n",
        "plt.plot(epochs, loss, 'r', label='Training Loss')\n",
        "plt.plot(epochs, val_loss, 'b', label='Validation Loss')\n",
        "plt.title('Training and validation loss')\n",
        "plt.legend()\n",
        "\n",
        "plt.show()"
      ]
    },
    {
      "cell_type": "markdown",
      "metadata": {
        "id": "e7EJjW6pCT0A"
      },
      "source": [
        "## Predict"
      ]
    },
    {
      "cell_type": "code",
      "execution_count": null,
      "metadata": {
        "colab": {
          "base_uri": "https://localhost:8080/"
        },
        "id": "jwiy_Gt6olbs",
        "outputId": "25a31227-b0fc-436f-d4ef-734ac8dc7904"
      },
      "outputs": [
        {
          "output_type": "stream",
          "name": "stdout",
          "text": [
            "{'angry': 0, 'depression': 1, 'happiness': 2}\n"
          ]
        }
      ],
      "source": [
        "class_names = train.class_indices\n",
        "print(class_names)"
      ]
    },
    {
      "cell_type": "code",
      "source": [
        "from keras.preprocessing import image\n",
        "from tensorflow.keras.utils import load_img, img_to_array"
      ],
      "metadata": {
        "id": "xmmNERPsehXi"
      },
      "execution_count": null,
      "outputs": []
    },
    {
      "cell_type": "code",
      "execution_count": null,
      "metadata": {
        "colab": {
          "base_uri": "https://localhost:8080/",
          "height": 360
        },
        "id": "9iEEjFVQYGEE",
        "outputId": "5c2d0359-8c4b-4058-cfca-72141f2b18f0"
      },
      "outputs": [
        {
          "output_type": "display_data",
          "data": {
            "text/plain": [
              "<IPython.core.display.HTML object>"
            ],
            "text/html": [
              "\n",
              "     <input type=\"file\" id=\"files-b4ed15f6-c201-4a05-bccc-f2d43ece9eb3\" name=\"files[]\" multiple disabled\n",
              "        style=\"border:none\" />\n",
              "     <output id=\"result-b4ed15f6-c201-4a05-bccc-f2d43ece9eb3\">\n",
              "      Upload widget is only available when the cell has been executed in the\n",
              "      current browser session. Please rerun this cell to enable.\n",
              "      </output>\n",
              "      <script>// Copyright 2017 Google LLC\n",
              "//\n",
              "// Licensed under the Apache License, Version 2.0 (the \"License\");\n",
              "// you may not use this file except in compliance with the License.\n",
              "// You may obtain a copy of the License at\n",
              "//\n",
              "//      http://www.apache.org/licenses/LICENSE-2.0\n",
              "//\n",
              "// Unless required by applicable law or agreed to in writing, software\n",
              "// distributed under the License is distributed on an \"AS IS\" BASIS,\n",
              "// WITHOUT WARRANTIES OR CONDITIONS OF ANY KIND, either express or implied.\n",
              "// See the License for the specific language governing permissions and\n",
              "// limitations under the License.\n",
              "\n",
              "/**\n",
              " * @fileoverview Helpers for google.colab Python module.\n",
              " */\n",
              "(function(scope) {\n",
              "function span(text, styleAttributes = {}) {\n",
              "  const element = document.createElement('span');\n",
              "  element.textContent = text;\n",
              "  for (const key of Object.keys(styleAttributes)) {\n",
              "    element.style[key] = styleAttributes[key];\n",
              "  }\n",
              "  return element;\n",
              "}\n",
              "\n",
              "// Max number of bytes which will be uploaded at a time.\n",
              "const MAX_PAYLOAD_SIZE = 100 * 1024;\n",
              "\n",
              "function _uploadFiles(inputId, outputId) {\n",
              "  const steps = uploadFilesStep(inputId, outputId);\n",
              "  const outputElement = document.getElementById(outputId);\n",
              "  // Cache steps on the outputElement to make it available for the next call\n",
              "  // to uploadFilesContinue from Python.\n",
              "  outputElement.steps = steps;\n",
              "\n",
              "  return _uploadFilesContinue(outputId);\n",
              "}\n",
              "\n",
              "// This is roughly an async generator (not supported in the browser yet),\n",
              "// where there are multiple asynchronous steps and the Python side is going\n",
              "// to poll for completion of each step.\n",
              "// This uses a Promise to block the python side on completion of each step,\n",
              "// then passes the result of the previous step as the input to the next step.\n",
              "function _uploadFilesContinue(outputId) {\n",
              "  const outputElement = document.getElementById(outputId);\n",
              "  const steps = outputElement.steps;\n",
              "\n",
              "  const next = steps.next(outputElement.lastPromiseValue);\n",
              "  return Promise.resolve(next.value.promise).then((value) => {\n",
              "    // Cache the last promise value to make it available to the next\n",
              "    // step of the generator.\n",
              "    outputElement.lastPromiseValue = value;\n",
              "    return next.value.response;\n",
              "  });\n",
              "}\n",
              "\n",
              "/**\n",
              " * Generator function which is called between each async step of the upload\n",
              " * process.\n",
              " * @param {string} inputId Element ID of the input file picker element.\n",
              " * @param {string} outputId Element ID of the output display.\n",
              " * @return {!Iterable<!Object>} Iterable of next steps.\n",
              " */\n",
              "function* uploadFilesStep(inputId, outputId) {\n",
              "  const inputElement = document.getElementById(inputId);\n",
              "  inputElement.disabled = false;\n",
              "\n",
              "  const outputElement = document.getElementById(outputId);\n",
              "  outputElement.innerHTML = '';\n",
              "\n",
              "  const pickedPromise = new Promise((resolve) => {\n",
              "    inputElement.addEventListener('change', (e) => {\n",
              "      resolve(e.target.files);\n",
              "    });\n",
              "  });\n",
              "\n",
              "  const cancel = document.createElement('button');\n",
              "  inputElement.parentElement.appendChild(cancel);\n",
              "  cancel.textContent = 'Cancel upload';\n",
              "  const cancelPromise = new Promise((resolve) => {\n",
              "    cancel.onclick = () => {\n",
              "      resolve(null);\n",
              "    };\n",
              "  });\n",
              "\n",
              "  // Wait for the user to pick the files.\n",
              "  const files = yield {\n",
              "    promise: Promise.race([pickedPromise, cancelPromise]),\n",
              "    response: {\n",
              "      action: 'starting',\n",
              "    }\n",
              "  };\n",
              "\n",
              "  cancel.remove();\n",
              "\n",
              "  // Disable the input element since further picks are not allowed.\n",
              "  inputElement.disabled = true;\n",
              "\n",
              "  if (!files) {\n",
              "    return {\n",
              "      response: {\n",
              "        action: 'complete',\n",
              "      }\n",
              "    };\n",
              "  }\n",
              "\n",
              "  for (const file of files) {\n",
              "    const li = document.createElement('li');\n",
              "    li.append(span(file.name, {fontWeight: 'bold'}));\n",
              "    li.append(span(\n",
              "        `(${file.type || 'n/a'}) - ${file.size} bytes, ` +\n",
              "        `last modified: ${\n",
              "            file.lastModifiedDate ? file.lastModifiedDate.toLocaleDateString() :\n",
              "                                    'n/a'} - `));\n",
              "    const percent = span('0% done');\n",
              "    li.appendChild(percent);\n",
              "\n",
              "    outputElement.appendChild(li);\n",
              "\n",
              "    const fileDataPromise = new Promise((resolve) => {\n",
              "      const reader = new FileReader();\n",
              "      reader.onload = (e) => {\n",
              "        resolve(e.target.result);\n",
              "      };\n",
              "      reader.readAsArrayBuffer(file);\n",
              "    });\n",
              "    // Wait for the data to be ready.\n",
              "    let fileData = yield {\n",
              "      promise: fileDataPromise,\n",
              "      response: {\n",
              "        action: 'continue',\n",
              "      }\n",
              "    };\n",
              "\n",
              "    // Use a chunked sending to avoid message size limits. See b/62115660.\n",
              "    let position = 0;\n",
              "    do {\n",
              "      const length = Math.min(fileData.byteLength - position, MAX_PAYLOAD_SIZE);\n",
              "      const chunk = new Uint8Array(fileData, position, length);\n",
              "      position += length;\n",
              "\n",
              "      const base64 = btoa(String.fromCharCode.apply(null, chunk));\n",
              "      yield {\n",
              "        response: {\n",
              "          action: 'append',\n",
              "          file: file.name,\n",
              "          data: base64,\n",
              "        },\n",
              "      };\n",
              "\n",
              "      let percentDone = fileData.byteLength === 0 ?\n",
              "          100 :\n",
              "          Math.round((position / fileData.byteLength) * 100);\n",
              "      percent.textContent = `${percentDone}% done`;\n",
              "\n",
              "    } while (position < fileData.byteLength);\n",
              "  }\n",
              "\n",
              "  // All done.\n",
              "  yield {\n",
              "    response: {\n",
              "      action: 'complete',\n",
              "    }\n",
              "  };\n",
              "}\n",
              "\n",
              "scope.google = scope.google || {};\n",
              "scope.google.colab = scope.google.colab || {};\n",
              "scope.google.colab._files = {\n",
              "  _uploadFiles,\n",
              "  _uploadFilesContinue,\n",
              "};\n",
              "})(self);\n",
              "</script> "
            ]
          },
          "metadata": {}
        },
        {
          "output_type": "stream",
          "name": "stdout",
          "text": [
            "Saving mo7t.png to mo7t.png\n",
            "1/1 [==============================] - 0s 28ms/step\n",
            "happiness\n"
          ]
        },
        {
          "output_type": "display_data",
          "data": {
            "text/plain": [
              "<Figure size 432x288 with 1 Axes>"
            ],
            "image/png": "[encoded data removed]"
          },
          "metadata": {
            "needs_background": "light"
          }
        }
      ],
      "source": [
        "uploaded = files.upload()\n",
        " \n",
        "for fn in uploaded.keys():\n",
        "  path = fn\n",
        "  img = tf.keras.utils.load_img(path, target_size=(150,150, 3))\n",
        "  imgplot = plt.imshow(img)\n",
        "  x = tf.keras.utils.img_to_array(img)\n",
        "  x = np.expand_dims(x, axis=0)\n",
        " \n",
        "  images = np.vstack([x])\n",
        "  predict = model.predict(images)\n",
        "  index = predict[0].argmax()\n",
        "\n",
        "  for key,value in class_names.items():\n",
        "    if value == index:\n",
        "        print(key)\n",
        "  "
      ]
    },
    {
      "cell_type": "code",
      "source": [
        "predict"
      ],
      "metadata": {
        "id": "ANbxDIDbjElu",
        "outputId": "518f974c-7a09-40a9-c401-f51afb8c341e",
        "colab": {
          "base_uri": "https://localhost:8080/"
        }
      },
      "execution_count": null,
      "outputs": [
        {
          "output_type": "execute_result",
          "data": {
            "text/plain": [
              "array([[0., 0., 1.]], dtype=float32)"
            ]
          },
          "metadata": {},
          "execution_count": 42
        }
      ]
    },
    {
      "cell_type": "code",
      "source": [
        "output = model(images)\n",
        "output"
      ],
      "metadata": {
        "colab": {
          "base_uri": "https://localhost:8080/"
        },
        "id": "TqR5fTsNgmI2",
        "outputId": "f2b3cb88-fdee-4db4-ee92-295d80bdbe05"
      },
      "execution_count": null,
      "outputs": [
        {
          "output_type": "execute_result",
          "data": {
            "text/plain": [
              "<tf.Tensor: shape=(1, 3), dtype=float32, numpy=array([[0., 0., 1.]], dtype=float32)>"
            ]
          },
          "metadata": {},
          "execution_count": 41
        }
      ]
    }
  ],
  "metadata": {
    "colab": {
      "provenance": []
    },
    "kernelspec": {
      "display_name": "Python 3",
      "language": "python",
      "name": "python3"
    },
    "language_info": {
      "codemirror_mode": {
        "name": "ipython",
        "version": 3
      },
      "file_extension": ".py",
      "mimetype": "text/x-python",
      "name": "python",
      "nbconvert_exporter": "python",
      "pygments_lexer": "ipython3",
      "version": "3.7.9"
    }
  },
  "nbformat": 4,
  "nbformat_minor": 0
}